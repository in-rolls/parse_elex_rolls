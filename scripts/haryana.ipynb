{
 "cells": [
  {
   "cell_type": "code",
   "execution_count": 3,
   "metadata": {},
   "outputs": [
    {
     "name": "stdout",
     "output_type": "stream",
     "text": [
      "Requirement already satisfied: fitz in /opt/venv37/lib/python3.7/site-packages (0.0.1.dev2)\n",
      "Collecting PyMuPDF\n",
      "  Downloading PyMuPDF-1.18.1-cp37-cp37m-manylinux2010_x86_64.whl (6.2 MB)\n",
      "\u001b[K     |████████████████████████████████| 6.2 MB 10.5 MB/s eta 0:00:01\n",
      "\u001b[?25hRequirement already satisfied: nipype in /opt/venv37/lib/python3.7/site-packages (from fitz) (1.5.1)\n",
      "Requirement already satisfied: numpy in /opt/venv37/lib/python3.7/site-packages (from fitz) (1.18.2)\n",
      "Requirement already satisfied: pyxnat in /opt/venv37/lib/python3.7/site-packages (from fitz) (1.3)\n",
      "Requirement already satisfied: httplib2 in /opt/venv37/lib/python3.7/site-packages (from fitz) (0.18.1)\n",
      "Requirement already satisfied: scipy in /opt/venv37/lib/python3.7/site-packages (from fitz) (1.4.1)\n",
      "Requirement already satisfied: nibabel in /opt/venv37/lib/python3.7/site-packages (from fitz) (3.1.1)\n",
      "Requirement already satisfied: configobj in /opt/venv37/lib/python3.7/site-packages (from fitz) (5.0.6)\n",
      "Requirement already satisfied: pandas in /opt/venv37/lib/python3.7/site-packages (from fitz) (1.1.0)\n",
      "Requirement already satisfied: configparser in /opt/venv37/lib/python3.7/site-packages (from fitz) (5.0.1)\n",
      "Requirement already satisfied: filelock>=3.0.0 in /opt/venv37/lib/python3.7/site-packages (from nipype->fitz) (3.0.12)\n",
      "Requirement already satisfied: simplejson>=3.8.0 in /opt/venv37/lib/python3.7/site-packages (from nipype->fitz) (3.17.2)\n",
      "Requirement already satisfied: traits!=5.0,>=4.6 in /opt/venv37/lib/python3.7/site-packages (from nipype->fitz) (6.1.1)\n",
      "Requirement already satisfied: networkx>=1.9 in /opt/venv37/lib/python3.7/site-packages (from nipype->fitz) (2.5)\n",
      "Requirement already satisfied: packaging in /opt/venv37/lib/python3.7/site-packages (from nipype->fitz) (20.4)\n",
      "Requirement already satisfied: etelemetry>=0.2.0 in /opt/venv37/lib/python3.7/site-packages (from nipype->fitz) (0.2.2)\n",
      "Requirement already satisfied: click>=6.6.0 in /opt/venv37/lib/python3.7/site-packages (from nipype->fitz) (7.1.2)\n",
      "Requirement already satisfied: pydotplus in /opt/venv37/lib/python3.7/site-packages (from nipype->fitz) (2.0.2)\n",
      "Requirement already satisfied: pydot>=1.2.3 in /opt/venv37/lib/python3.7/site-packages (from nipype->fitz) (1.4.1)\n",
      "Requirement already satisfied: rdflib>=5.0.0 in /opt/venv37/lib/python3.7/site-packages (from nipype->fitz) (5.0.0)\n",
      "Requirement already satisfied: python-dateutil>=2.2 in /opt/venv37/lib/python3.7/site-packages (from nipype->fitz) (2.8.1)\n",
      "Requirement already satisfied: prov>=1.5.2 in /opt/venv37/lib/python3.7/site-packages (from nipype->fitz) (1.5.3)\n",
      "Requirement already satisfied: lxml>=4.3 in /opt/venv37/lib/python3.7/site-packages (from pyxnat->fitz) (4.5.2)\n",
      "Requirement already satisfied: requests[security] in /opt/venv37/lib/python3.7/site-packages (from pyxnat->fitz) (2.24.0)\n",
      "Requirement already satisfied: six in /opt/venv37/lib/python3.7/site-packages (from configobj->fitz) (1.14.0)\n",
      "Requirement already satisfied: pytz>=2017.2 in /opt/venv37/lib/python3.7/site-packages (from pandas->fitz) (2019.3)\n",
      "Requirement already satisfied: decorator>=4.3.0 in /opt/venv37/lib/python3.7/site-packages (from networkx>=1.9->nipype->fitz) (4.4.2)\n",
      "Requirement already satisfied: pyparsing>=2.0.2 in /opt/venv37/lib/python3.7/site-packages (from packaging->nipype->fitz) (2.4.7)\n",
      "Requirement already satisfied: ci-info>=0.2 in /opt/venv37/lib/python3.7/site-packages (from etelemetry>=0.2.0->nipype->fitz) (0.2.0)\n",
      "Requirement already satisfied: isodate in /opt/venv37/lib/python3.7/site-packages (from rdflib>=5.0.0->nipype->fitz) (0.6.0)\n",
      "Requirement already satisfied: urllib3!=1.25.0,!=1.25.1,<1.26,>=1.21.1 in /opt/venv37/lib/python3.7/site-packages (from requests[security]->pyxnat->fitz) (1.25.8)\n",
      "Requirement already satisfied: chardet<4,>=3.0.2 in /opt/venv37/lib/python3.7/site-packages (from requests[security]->pyxnat->fitz) (3.0.4)\n",
      "Requirement already satisfied: idna<3,>=2.5 in /opt/venv37/lib/python3.7/site-packages (from requests[security]->pyxnat->fitz) (2.9)\n",
      "Requirement already satisfied: certifi>=2017.4.17 in /opt/venv37/lib/python3.7/site-packages (from requests[security]->pyxnat->fitz) (2020.4.5.1)\n",
      "Requirement already satisfied: cryptography>=1.3.4; extra == \"security\" in /opt/venv37/lib/python3.7/site-packages (from requests[security]->pyxnat->fitz) (2.9.2)\n",
      "Requirement already satisfied: pyOpenSSL>=0.14; extra == \"security\" in /opt/venv37/lib/python3.7/site-packages (from requests[security]->pyxnat->fitz) (19.1.0)\n",
      "Requirement already satisfied: cffi!=1.11.3,>=1.8 in /opt/venv37/lib/python3.7/site-packages (from cryptography>=1.3.4; extra == \"security\"->requests[security]->pyxnat->fitz) (1.14.0)\n",
      "Requirement already satisfied: pycparser in /opt/venv37/lib/python3.7/site-packages (from cffi!=1.11.3,>=1.8->cryptography>=1.3.4; extra == \"security\"->requests[security]->pyxnat->fitz) (2.20)\n",
      "Installing collected packages: PyMuPDF\n",
      "Successfully installed PyMuPDF-1.18.1\n"
     ]
    }
   ],
   "source": [
    "!pip install fitz PyMuPDF"
   ]
  },
  {
   "cell_type": "code",
   "execution_count": 70,
   "metadata": {},
   "outputs": [],
   "source": [
    "import os\n",
    "import fitz\n",
    "import re\n",
    "from glob import glob\n",
    "import pandas as pd"
   ]
  },
  {
   "cell_type": "code",
   "execution_count": 62,
   "metadata": {},
   "outputs": [],
   "source": [
    "### From parse_in_rolls\n",
    "\n",
    "COLUMNS = [\"number\",\"id\", \"elector_name\", \"father_or_husband_name\", \"relationship\", \"house_no\", \"age\", \"sex\", \"ac_name\", \"parl_constituency\", \"part_no\", \"year\", \"state\", \"filename\", \"main_town\", \"police_station\", \"mandal\", \"revenue_division\", \"district\", \"pin_code\", \"polling_station_name\", \"polling_station_address\", \"net_electors_male\", \"net_electors_female\", \"net_electors_third_gender\", \"net_electors_total\",\"original_or_amendment\"]"
   ]
  },
  {
   "cell_type": "raw",
   "metadata": {},
   "source": [
    "['�याम नंदन',\n",
    " '1028',\n",
    " 'RRC0972976',\n",
    " 'नाम :',\n",
    " 'िपता : जागे�र गु�ा',\n",
    " 'मकान  नं. : ',\n",
    " '8154',\n",
    " 'आयु :',\n",
    " '54',\n",
    " 'िलग : मिहला',\n",
    " 'फोटो    ',\n",
    " 'उपलब्ध    ',\n",
    " 'है।']"
   ]
  },
  {
   "cell_type": "code",
   "execution_count": 122,
   "metadata": {},
   "outputs": [],
   "source": [
    "rows = []\n",
    "for fn in glob('../../parse_in_rolls/data/haryana/*.PDF'):\n",
    "    doc = fitz.open(fn)\n",
    "    for p in doc:\n",
    "        text = p.getText()\n",
    "        for m in re.finditer(r'(?<=\\n)(.*?\\n\\d+\\n.*?\\nनाम :(.*?\\nहै।))', '\\n' + text, flags=re.DOTALL):\n",
    "            box = m.group(1)\n",
    "            elector_name = re.findall(r'(.*?)\\d+', box, flags=re.S)[0].strip().replace('\\n', ' ')\n",
    "            number = re.findall(r'.*?(\\d+)', box, flags=re.S)[0].strip()\n",
    "            _id = re.findall(r'.*?\\d+\\n(.*?)\\n', box, flags=re.S)[0].strip()\n",
    "            a = re.findall(r'नाम :\\n(.*?)\\nमकान  नं. :', box, flags=re.S)[0].strip().split(':')\n",
    "            relationship = a[0].strip()\n",
    "            father_or_husband_name = a[1].strip()\n",
    "            house_no = re.findall(r'मकान  नं. :(.*?)आयु', box, flags=re.S)[0].strip()\n",
    "            age = re.findall(r'आयु :(.*?)िलग', box, flags=re.S)[0].strip()\n",
    "            sex = re.findall(r'लग : (.*?)फोटो', box, flags=re.S)[0].strip()\n",
    "            data = {'filename': os.path.basename(fn),\n",
    "                    'number': number,\n",
    "                    'id': _id,\n",
    "                    'elector_name': elector_name,\n",
    "                    'father_or_husband_name': father_or_husband_name,\n",
    "                    'relationship': relationship,\n",
    "                    'house_no': house_no,\n",
    "                    'age': age,\n",
    "                    'sex': sex,\n",
    "                   }\n",
    "            rows.append(data)"
   ]
  },
  {
   "cell_type": "code",
   "execution_count": 123,
   "metadata": {},
   "outputs": [
    {
     "data": {
      "text/html": [
       "<div>\n",
       "<style scoped>\n",
       "    .dataframe tbody tr th:only-of-type {\n",
       "        vertical-align: middle;\n",
       "    }\n",
       "\n",
       "    .dataframe tbody tr th {\n",
       "        vertical-align: top;\n",
       "    }\n",
       "\n",
       "    .dataframe thead th {\n",
       "        text-align: right;\n",
       "    }\n",
       "</style>\n",
       "<table border=\"1\" class=\"dataframe\">\n",
       "  <thead>\n",
       "    <tr style=\"text-align: right;\">\n",
       "      <th></th>\n",
       "      <th>filename</th>\n",
       "      <th>number</th>\n",
       "      <th>id</th>\n",
       "      <th>elector_name</th>\n",
       "      <th>father_or_husband_name</th>\n",
       "      <th>relationship</th>\n",
       "      <th>house_no</th>\n",
       "      <th>age</th>\n",
       "      <th>sex</th>\n",
       "    </tr>\n",
       "  </thead>\n",
       "  <tbody>\n",
       "    <tr>\n",
       "      <th>0</th>\n",
       "      <td>CMB0880189.PDF</td>\n",
       "      <td>1</td>\n",
       "      <td>BFS2536829</td>\n",
       "      <td>सुरेश चंद</td>\n",
       "      <td>रतन िसह</td>\n",
       "      <td>िपता</td>\n",
       "      <td>.</td>\n",
       "      <td>52</td>\n",
       "      <td>पुरुष</td>\n",
       "    </tr>\n",
       "    <tr>\n",
       "      <th>1</th>\n",
       "      <td>CMB0880189.PDF</td>\n",
       "      <td>2</td>\n",
       "      <td>BFS2536803</td>\n",
       "      <td>मोनू</td>\n",
       "      <td>रतन िसह</td>\n",
       "      <td>िपता</td>\n",
       "      <td>.</td>\n",
       "      <td>34</td>\n",
       "      <td>पुरुष</td>\n",
       "    </tr>\n",
       "    <tr>\n",
       "      <th>2</th>\n",
       "      <td>CMB0880189.PDF</td>\n",
       "      <td>3</td>\n",
       "      <td>BFS2536795</td>\n",
       "      <td>शिश</td>\n",
       "      <td>रतन िसह</td>\n",
       "      <td>िपता</td>\n",
       "      <td>.</td>\n",
       "      <td>31</td>\n",
       "      <td>मिहला</td>\n",
       "    </tr>\n",
       "    <tr>\n",
       "      <th>3</th>\n",
       "      <td>CMB0880189.PDF</td>\n",
       "      <td>4</td>\n",
       "      <td>BFS2536811</td>\n",
       "      <td>अिनल</td>\n",
       "      <td>रतन िसह</td>\n",
       "      <td>िपता</td>\n",
       "      <td>.</td>\n",
       "      <td>31</td>\n",
       "      <td>पुरुष</td>\n",
       "    </tr>\n",
       "    <tr>\n",
       "      <th>4</th>\n",
       "      <td>CMB0880189.PDF</td>\n",
       "      <td>5</td>\n",
       "      <td>NAH1151406</td>\n",
       "      <td>रेनू भार�वाज</td>\n",
       "      <td>दीपक भार�ाज</td>\n",
       "      <td>पित</td>\n",
       "      <td>0</td>\n",
       "      <td>32</td>\n",
       "      <td>मिहला</td>\n",
       "    </tr>\n",
       "    <tr>\n",
       "      <th>...</th>\n",
       "      <td>...</td>\n",
       "      <td>...</td>\n",
       "      <td>...</td>\n",
       "      <td>...</td>\n",
       "      <td>...</td>\n",
       "      <td>...</td>\n",
       "      <td>...</td>\n",
       "      <td>...</td>\n",
       "      <td>...</td>\n",
       "    </tr>\n",
       "    <tr>\n",
       "      <th>26990</th>\n",
       "      <td>CMB0690082.PDF</td>\n",
       "      <td>888</td>\n",
       "      <td>BTX1467190</td>\n",
       "      <td>मदन लाल</td>\n",
       "      <td>लालमन</td>\n",
       "      <td>िपता</td>\n",
       "      <td>225ख</td>\n",
       "      <td>68</td>\n",
       "      <td>पुरुष</td>\n",
       "    </tr>\n",
       "    <tr>\n",
       "      <th>26991</th>\n",
       "      <td>CMB0690082.PDF</td>\n",
       "      <td>889</td>\n",
       "      <td>BTX1661560</td>\n",
       "      <td>शिमर्ला देवी</td>\n",
       "      <td>राजेश कुमार</td>\n",
       "      <td>पित</td>\n",
       "      <td>225ख</td>\n",
       "      <td>38</td>\n",
       "      <td>मिहला</td>\n",
       "    </tr>\n",
       "    <tr>\n",
       "      <th>26992</th>\n",
       "      <td>CMB0690082.PDF</td>\n",
       "      <td>890</td>\n",
       "      <td>SHQ0875336</td>\n",
       "      <td>मनीष</td>\n",
       "      <td>बीर�दर् िसह</td>\n",
       "      <td>िपता</td>\n",
       "      <td>236</td>\n",
       "      <td>20</td>\n",
       "      <td>पुरुष</td>\n",
       "    </tr>\n",
       "    <tr>\n",
       "      <th>26993</th>\n",
       "      <td>CMB0690082.PDF</td>\n",
       "      <td>891</td>\n",
       "      <td>SHQ0280586</td>\n",
       "      <td>सुरे�द्र</td>\n",
       "      <td>अजमेर िसह</td>\n",
       "      <td>िपता</td>\n",
       "      <td>255</td>\n",
       "      <td>28</td>\n",
       "      <td>पुरुष</td>\n",
       "    </tr>\n",
       "    <tr>\n",
       "      <th>26994</th>\n",
       "      <td>CMB0690082.PDF</td>\n",
       "      <td>892</td>\n",
       "      <td>SHQ0133876</td>\n",
       "      <td>पु�पा</td>\n",
       "      <td>चन्दर् शेखर</td>\n",
       "      <td>पित</td>\n",
       "      <td>3211</td>\n",
       "      <td>30</td>\n",
       "      <td>मिहला</td>\n",
       "    </tr>\n",
       "  </tbody>\n",
       "</table>\n",
       "<p>26995 rows × 9 columns</p>\n",
       "</div>"
      ],
      "text/plain": [
       "             filename number          id  elector_name father_or_husband_name  \\\n",
       "0      CMB0880189.PDF      1  BFS2536829     सुरेश चंद                रतन िसह   \n",
       "1      CMB0880189.PDF      2  BFS2536803          मोनू                रतन िसह   \n",
       "2      CMB0880189.PDF      3  BFS2536795           शिश                रतन िसह   \n",
       "3      CMB0880189.PDF      4  BFS2536811          अिनल                रतन िसह   \n",
       "4      CMB0880189.PDF      5  NAH1151406  रेनू भार�वाज            दीपक भार�ाज   \n",
       "...               ...    ...         ...           ...                    ...   \n",
       "26990  CMB0690082.PDF    888  BTX1467190       मदन लाल                  लालमन   \n",
       "26991  CMB0690082.PDF    889  BTX1661560  शिमर्ला देवी            राजेश कुमार   \n",
       "26992  CMB0690082.PDF    890  SHQ0875336          मनीष            बीर�दर् िसह   \n",
       "26993  CMB0690082.PDF    891  SHQ0280586      सुरे�द्र              अजमेर िसह   \n",
       "26994  CMB0690082.PDF    892  SHQ0133876         पु�पा            चन्दर् शेखर   \n",
       "\n",
       "      relationship house_no age    sex  \n",
       "0             िपता        .  52  पुरुष  \n",
       "1             िपता        .  34  पुरुष  \n",
       "2             िपता        .  31  मिहला  \n",
       "3             िपता        .  31  पुरुष  \n",
       "4              पित        0  32  मिहला  \n",
       "...            ...      ...  ..    ...  \n",
       "26990         िपता     225ख  68  पुरुष  \n",
       "26991          पित     225ख  38  मिहला  \n",
       "26992         िपता      236  20  पुरुष  \n",
       "26993         िपता      255  28  पुरुष  \n",
       "26994          पित     3211  30  मिहला  \n",
       "\n",
       "[26995 rows x 9 columns]"
      ]
     },
     "execution_count": 123,
     "metadata": {},
     "output_type": "execute_result"
    }
   ],
   "source": [
    "df = pd.DataFrame(rows)\n",
    "df"
   ]
  },
  {
   "cell_type": "code",
   "execution_count": 124,
   "metadata": {},
   "outputs": [
    {
     "data": {
      "text/plain": [
       "array(['िपता', 'पित', 'माता', '......'], dtype=object)"
      ]
     },
     "execution_count": 124,
     "metadata": {},
     "output_type": "execute_result"
    }
   ],
   "source": [
    "df.relationship.unique()"
   ]
  },
  {
   "cell_type": "code",
   "execution_count": 125,
   "metadata": {},
   "outputs": [
    {
     "data": {
      "text/plain": [
       "array(['पुरुष', 'मिहला'], dtype=object)"
      ]
     },
     "execution_count": 125,
     "metadata": {},
     "output_type": "execute_result"
    }
   ],
   "source": [
    "df.sex.unique()"
   ]
  },
  {
   "cell_type": "code",
   "execution_count": 126,
   "metadata": {},
   "outputs": [
    {
     "data": {
      "text/plain": [
       "array(['52', '34', '31', '32', '27', '26', '25', '24', '23', '28', '57',\n",
       "       '35', '47', '44', '51', '40', '60', '58', '64', '62', '54', '38',\n",
       "       '45', '41', '59', '37', '56', '50', '36', '74', '68', '43', '76',\n",
       "       '72', '66', '46', '61', '48', '42', '71', '39', '55', '75', '67',\n",
       "       '49', '30', '53', '33', '29', '63', '69', '65', '77', '20', '81',\n",
       "       '80', '70', '22', '89', '84', '73', '85', '21', '79', '83', '87',\n",
       "       '19', '82', '78', '99', '95', '90', '92', '91', '94', '93', '96',\n",
       "       '88', '86', '97', '100', '102', '108', '112', '98', '101', '103',\n",
       "       '111', '113'], dtype=object)"
      ]
     },
     "execution_count": 126,
     "metadata": {},
     "output_type": "execute_result"
    }
   ],
   "source": [
    "df.age.unique()"
   ]
  },
  {
   "cell_type": "code",
   "execution_count": 128,
   "metadata": {},
   "outputs": [],
   "source": [
    "df.to_csv('haryana.csv', index_label='index')"
   ]
  },
  {
   "cell_type": "code",
   "execution_count": 129,
   "metadata": {},
   "outputs": [
    {
     "data": {
      "text/plain": [
       "'नामावली पर्रुप\\nनामावली पहचान\\nिनवार्चक� की संख्या\\nपुरुष\\nमिहला\\nअन्य\\nकुल\\nमूल पर्ित \\nमूल नामावली\\nनये पिरसीिमत िनवार्चन क्षेतर्� के िवस्तारानुसार \\nवषर्  2017 तक के सभी अनुपूरक� सिहत एकीकृत \\nवषर् 2018 की फोटो युक्त िनवार्चक नामावली\\n455\\n437\\n0\\n892\\n455\\n437\\n0\\n892\\nिनवार्चक पंजीयन अिधकारी �ारा जारी \\nकुल  33  पृ�� का पृ�  33\\n'"
      ]
     },
     "execution_count": 129,
     "metadata": {},
     "output_type": "execute_result"
    }
   ],
   "source": [
    "text"
   ]
  }
 ],
 "metadata": {
  "kernelspec": {
   "display_name": "Python 3",
   "language": "python",
   "name": "python3"
  },
  "language_info": {
   "codemirror_mode": {
    "name": "ipython",
    "version": 3
   },
   "file_extension": ".py",
   "mimetype": "text/x-python",
   "name": "python",
   "nbconvert_exporter": "python",
   "pygments_lexer": "ipython3",
   "version": "3.7.9"
  }
 },
 "nbformat": 4,
 "nbformat_minor": 4
}
